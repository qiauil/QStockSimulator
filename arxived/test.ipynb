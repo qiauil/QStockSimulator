{
 "cells": [
  {
   "cell_type": "code",
   "execution_count": 2,
   "metadata": {},
   "outputs": [],
   "source": [
    "import pandas as pd\n",
    "from typing import *"
   ]
  },
  {
   "cell_type": "code",
   "execution_count": 3,
   "metadata": {},
   "outputs": [
    {
     "data": {
      "text/plain": [
       "8"
      ]
     },
     "execution_count": 3,
     "metadata": {},
     "output_type": "execute_result"
    }
   ],
   "source": [
    "y,m,d=map(int,\"2015_08_35\".split(\"_\"))\n",
    "m"
   ]
  },
  {
   "cell_type": "code",
   "execution_count": 4,
   "metadata": {},
   "outputs": [],
   "source": [
    "from typing import Sequence\n",
    "from pandas import DataFrame\n",
    "\n",
    "\n",
    "class StockDataBasis:\n",
    "    \n",
    "    def __init__(self,data_frame:pd.DataFrame,column_names=Sequence[str]) -> None:\n",
    "        existed_columns = data_frame.columns\n",
    "        for column_name in column_names:\n",
    "            assert column_name in existed_columns, f\"Key column {column_name} not found in data_frame\"\n",
    "        self.data_frame = data_frame\n",
    "        \n",
    "    def value_pairs(self, key ,key_data_frame:pd.DataFrame, value_data_frame:pd.DataFrame) -> Dict:\n",
    "        raise NotImplementedError(\"Subclass must implement abstract method\")\n",
    "\n",
    "class AdjustFactor(StockDataBasis):\n",
    "    \n",
    "    def __init__(self, data_frame: DataFrame) -> None:\n",
    "        super().__init__(data_frame, [\"dividOperateDate\",\"foreAdjustFactor\",\"backAdjustFactor\",\"adjustFactor\"])\n",
    "        self.data_frame[[\"foreAdjustFactor\",\"backAdjustFactor\",\"adjustFactor\"]] = self.data_frame[[\"foreAdjustFactor\",\"backAdjustFactor\",\"adjustFactor\"]].apply(pd.to_numeric)\n",
    "    \n",
    "    def get_divid_operate_date(self):\n",
    "        return self.data_frame[\"dividOperateDate\"]\n",
    "    \n",
    "    def get_before_adjust_factor(self):\n",
    "        return self.data_frame[\"foreAdjustFactor\"]\n",
    "    \n",
    "    def get_after_adjust_factor(self):\n",
    "        return self.data_frame[\"backAdjustFactor\"]\n",
    "    \n",
    "    def get_adjust_factor(self):\n",
    "        return self.data_frame[\"adjustFactor\"]"
   ]
  },
  {
   "cell_type": "code",
   "execution_count": 5,
   "metadata": {},
   "outputs": [],
   "source": [
    "class StockHDF5Reader:\n",
    "    \n",
    "    def __init__(self,file_path) -> None:\n",
    "        try:\n",
    "            hdf =pd.HDFStore(file_path, mode='r')\n",
    "        except Exception as e:\n",
    "            raise Exception(\"Failed to open file: \"+str(e))\n",
    "        existed_keys=hdf.keys()\n",
    "        for key in [\"adjust_factor\"]:\n",
    "            assert \"/\"+key in existed_keys, f\"Key {key} not found in file {file_path}\"\n",
    "        hdf.close()\n",
    "        self.file_path = file_path\n",
    "        self._adjust_factor = None\n",
    "        \n",
    "    def get_adjust_factor(self) -> AdjustFactor:\n",
    "        if self._adjust_factor is None:\n",
    "            self._adjust_factor = AdjustFactor(pd.read_hdf(self.file_path, key=\"adjust_factor\"))\n",
    "        return self._adjust_factor\n",
    "    "
   ]
  },
  {
   "cell_type": "code",
   "execution_count": 6,
   "metadata": {},
   "outputs": [
    {
     "name": "stdout",
     "output_type": "stream",
     "text": [
      "['/adjust_factor', '/balance_data', '/cash_flow_data', '/day_data', '/dividend_data', '/dupont_data', '/forecast_report', '/growth_data', '/month_data', '/operation_data', '/performance_express_report', '/profit_data', '/stock_basic', '/week_data']\n",
      "        code code_name     ipoDate outDate type status\n",
      "0  sh.600556       天下秀  2001-08-07            1      1\n"
     ]
    }
   ],
   "source": [
    "test_hdf5=pd.HDFStore(\"../../sh.600556.h5\",mode='r')\n",
    "print(test_hdf5.keys())\n",
    "test_hdf5.keys()\n",
    "print(test_hdf5[\"/stock_basic\"])\n",
    "test_hdf5.close()"
   ]
  },
  {
   "cell_type": "code",
   "execution_count": 12,
   "metadata": {},
   "outputs": [
    {
     "data": {
      "text/html": [
       "<div>\n",
       "<style scoped>\n",
       "    .dataframe tbody tr th:only-of-type {\n",
       "        vertical-align: middle;\n",
       "    }\n",
       "\n",
       "    .dataframe tbody tr th {\n",
       "        vertical-align: top;\n",
       "    }\n",
       "\n",
       "    .dataframe thead th {\n",
       "        text-align: right;\n",
       "    }\n",
       "</style>\n",
       "<table border=\"1\" class=\"dataframe\">\n",
       "  <thead>\n",
       "    <tr style=\"text-align: right;\">\n",
       "      <th></th>\n",
       "      <th>code</th>\n",
       "      <th>code_name</th>\n",
       "      <th>ipoDate</th>\n",
       "      <th>outDate</th>\n",
       "      <th>type</th>\n",
       "      <th>status</th>\n",
       "    </tr>\n",
       "  </thead>\n",
       "  <tbody>\n",
       "    <tr>\n",
       "      <th>0</th>\n",
       "      <td>sh.600556</td>\n",
       "      <td>天下秀</td>\n",
       "      <td>2001-08-07</td>\n",
       "      <td></td>\n",
       "      <td>1</td>\n",
       "      <td>1</td>\n",
       "    </tr>\n",
       "  </tbody>\n",
       "</table>\n",
       "</div>"
      ],
      "text/plain": [
       "        code code_name     ipoDate outDate type status\n",
       "0  sh.600556       天下秀  2001-08-07            1      1"
      ]
     },
     "execution_count": 12,
     "metadata": {},
     "output_type": "execute_result"
    }
   ],
   "source": [
    "df=pd.read_hdf(\"../../sh.600556.h5\", key='/stock_basic')\n",
    "df"
   ]
  },
  {
   "cell_type": "code",
   "execution_count": 17,
   "metadata": {},
   "outputs": [
    {
     "data": {
      "text/plain": [
       "''"
      ]
     },
     "execution_count": 17,
     "metadata": {},
     "output_type": "execute_result"
    }
   ],
   "source": [
    "df[\"outDate\"][0]"
   ]
  },
  {
   "cell_type": "code",
   "execution_count": 52,
   "metadata": {},
   "outputs": [
    {
     "data": {
      "text/plain": [
       "Index([0, 1, 2, 3, 4, 5, 6, 7, 8, 9, 10, 11, 12, 13], dtype='int64')"
      ]
     },
     "execution_count": 52,
     "metadata": {},
     "output_type": "execute_result"
    }
   ],
   "source": [
    "test_hdf5.get_adjust_factor().data_frame.index"
   ]
  },
  {
   "cell_type": "code",
   "execution_count": 15,
   "metadata": {},
   "outputs": [
    {
     "data": {
      "text/plain": [
       "Index(['code', 'dividOperateDate', 'foreAdjustFactor', 'backAdjustFactor',\n",
       "       'adjustFactor'],\n",
       "      dtype='object')"
      ]
     },
     "execution_count": 15,
     "metadata": {},
     "output_type": "execute_result"
    }
   ],
   "source": [
    "read_hdf.head()\n",
    "read_hdf.describe()\n",
    "read_hdf.columns"
   ]
  },
  {
   "cell_type": "code",
   "execution_count": 14,
   "metadata": {},
   "outputs": [
    {
     "data": {
      "text/plain": [
       "'2020-07-09'"
      ]
     },
     "execution_count": 14,
     "metadata": {},
     "output_type": "execute_result"
    }
   ],
   "source": [
    "read_hdf.dividOperateDate[10]"
   ]
  },
  {
   "cell_type": "code",
   "execution_count": 22,
   "metadata": {},
   "outputs": [
    {
     "name": "stdout",
     "output_type": "stream",
     "text": [
      "adjust_factor\n"
     ]
    }
   ],
   "source": [
    "from enum import StrEnum\n",
    "\n",
    "class StockDataKey(StrEnum):\n",
    "    ADJUST_FACTOR = \"adjust_factor\"\n",
    "    STOCK_BASIC = \"stock_basic\"\n",
    "    STOCK_DAILY = \"stock_daily\"\n",
    "    STOCK_WEEKLY = \"stock_weekly\"\n",
    "    STOCK_MONTHLY = \"stock_monthly\"\n",
    "    STOCK_5MIN = \"stock_5min\"\n",
    "    STOCK_15MIN = \"stock_15min\"\n",
    "    STOCK_30MIN = \"stock_30min\"\n",
    "    STOCK_60MIN = \"stock_60min\"\n",
    "    STOCK_1MIN = \"stock_1min\"\n",
    "    \n",
    "print(StockDataKey.ADJUST_FACTOR)"
   ]
  }
 ],
 "metadata": {
  "kernelspec": {
   "display_name": "qstocks",
   "language": "python",
   "name": "python3"
  },
  "language_info": {
   "codemirror_mode": {
    "name": "ipython",
    "version": 3
   },
   "file_extension": ".py",
   "mimetype": "text/x-python",
   "name": "python",
   "nbconvert_exporter": "python",
   "pygments_lexer": "ipython3",
   "version": "3.11.5"
  }
 },
 "nbformat": 4,
 "nbformat_minor": 2
}
